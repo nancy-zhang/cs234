{
 "cells": [
  {
   "cell_type": "code",
   "execution_count": 1,
   "metadata": {
    "collapsed": false
   },
   "outputs": [],
   "source": [
    "import matplotlib.pyplot as plt\n",
    "import numpy as np\n",
    "import networkx as nx\n",
    "import random\n",
    "%matplotlib inline \n",
    "import scipy.special"
   ]
  },
  {
   "cell_type": "markdown",
   "metadata": {},
   "source": [
    "Note: I simulate the SIR epidemic spreading process using degree infectivity, i.e., during a time step, an infectious node will attempt to infect all of its neighbors."
   ]
  },
  {
   "cell_type": "markdown",
   "metadata": {},
   "source": [
    "First, define functions for I-R and S-I processes of SIR:"
   ]
  },
  {
   "cell_type": "code",
   "execution_count": 36,
   "metadata": {
    "collapsed": false
   },
   "outputs": [],
   "source": [
    "def recover(i_nodes, r_nodes, p):\n",
    "    \"\"\" Given list of infected nodes, recovered nodes, and IR transition probability, \n",
    "    recovers some infected nodes at random according to p\n",
    "    Returns list of infected nodes and recovered nodes \"\"\"\n",
    "    no_infected = len(i_nodes)\n",
    "    if no_infected == 0:\n",
    "        return i_nodes, r_nodes\n",
    "    \n",
    "    randoms = [random.random() for i in range(no_infected)]\n",
    "    \n",
    "    # List of Boolean values for whether the corresponding infected node recovers\n",
    "    recover = [x<p for x in randoms]\n",
    "    \n",
    "    # Apply Booleans as filter with np arrays \n",
    "    I_array = np.asarray(i_nodes)\n",
    "    filter = np.array(recover)\n",
    "    new_recovered_nodes = I_array[filter] # np array of infected nodes that are now recovered\n",
    "    new_recovered_nodes = list(new_recovered_nodes) # cast as list\n",
    "    \n",
    "    # Remove these newly recovered nodes from the infected nodes\n",
    "    i_nodes = [item for item in i_nodes if item not in new_recovered_nodes]\n",
    "    \n",
    "    r_nodes += new_recovered_nodes\n",
    "    \n",
    "    return i_nodes, r_nodes \n",
    "\n",
    "def spread(G, s_nodes, i_nodes, p):\n",
    "    \"\"\"\"for each node in the I state, the node has probability p of passing disease to neighbors who are in S state\n",
    "    Returns list of new s nodes and new i nodes \n",
    "    \"\"\"\n",
    "    \n",
    "    for node_id in i_nodes:\n",
    "        # find neighbors in the S state\n",
    "        neighbors_in_s = list(set(G.neighbors(node_id)) & set(s_nodes))\n",
    "        \n",
    "        if len(neighbors_in_s) == 0: #If that node has no neighbors in S state, skip to next node\n",
    "            continue\n",
    "        \n",
    "        randoms = [random.random() for i in range(len(neighbors_in_s))]\n",
    "        \n",
    "        # List of booleans for whether or not the neighbor in S state gets infected\n",
    "        infected = [x<p for x in randoms]\n",
    "        \n",
    "        # Apply boolean as filter to get the neighbor S nodes that get infected.\n",
    "        neighbors_s_array = np.asarray(neighbors_in_s)\n",
    "        filter = np.array(infected)\n",
    "        \n",
    "        new_infected_nodes = neighbors_s_array[filter] # np array of now-infected nodes\n",
    "        new_infected_nodes = list(new_infected_nodes) # cast as list\n",
    "        \n",
    "        # remove these new infected nodes from s_nodes\n",
    "        s_nodes = [item for item in s_nodes if item not in new_infected_nodes]\n",
    "        \n",
    "        # Append new infected nodes to i_nodes list\n",
    "        i_nodes += new_infected_nodes\n",
    "    \n",
    "    return s_nodes, i_nodes"
   ]
  },
  {
   "cell_type": "markdown",
   "metadata": {},
   "source": [
    "Next, define functions for a node calculating its perceived probability of infection, which it uses for its vaccination decision making."
   ]
  },
  {
   "cell_type": "code",
   "execution_count": 3,
   "metadata": {
    "collapsed": false
   },
   "outputs": [],
   "source": [
    "def prob_of_disease(G, node, vaccinated_neighbors, p_si):\n",
    "    \"\"\"G: networkx graph\n",
    "        node: node id for graph\n",
    "        vaccinated_neighbors: integer\"\"\"\n",
    "\n",
    "    \"\"\"Returns probability of disease given x many vacc. 1st degree neighbors \"\"\"\n",
    "    \n",
    "    p_vacc = vaccinated_neighbors/G.degree(node)\n",
    "    \n",
    "    p_infection = 0\n",
    "    for i in range(G.degree(node)):\n",
    "        p_infection+= scipy.special.binom(G.degree(node), i)*p_vacc**i*(1-p_vacc)**(G.degree(node)-i)*(1-(1-p_si)**(G.degree(node)-i))\n",
    "        \n",
    "    return p_infection\n",
    "\n",
    "def vaccinate_decision_making(G, s_nodes, v_nodes, thresholds, p_si):\n",
    "    \"\"\"Given information, some susceptible nodes decide to vaccinate \"\"\"\n",
    "    \"\"\"Suppose we give information about how many first degree neighbors have vaccinated\"\"\"\n",
    "    \n",
    "    # Each susceptible node calculates probability of contracting disease\n",
    "    for node in s_nodes:\n",
    "        vaccinated_neighbors = len(list(set(G.neighbors(node)) & set(v_nodes)))\n",
    "    \n",
    "        p_disease = prob_of_disease(G, node, vaccinated_neighbors, p_si)\n",
    "        if p_disease > thresholds[node]: #If probability greater than threshold, vaccinate\n",
    "            v_nodes.append(node)\n",
    "            \n",
    "    s_nodes = [node for node in s_nodes if node not in v_nodes]\n",
    "    return s_nodes, v_nodes\n",
    "    "
   ]
  },
  {
   "cell_type": "code",
   "execution_count": 14,
   "metadata": {
    "collapsed": false
   },
   "outputs": [],
   "source": [
    "def simulate_main(G, p_si, p_ir, num_infected_init, num_vaccinate_init, thresholds):\n",
    "    '''Simulates the public health intervention in which we give each node information about\n",
    "    the vacination status of its 1st degree neighbors. Terminates when all infected nodes have recovered'''\n",
    "    \n",
    "    v_nodes = list(np.random.choice(G.nodes(), num_vaccinate_init, replace=False)) # Initialize vaccinated nodes \n",
    "    init_susceptible = list(set(G.nodes()) - set(v_nodes)) #Initially susceptible cannot be a vaccinated node\n",
    "    \n",
    "    # initialize nodes\n",
    "    i_nodes = list(np.random.choice(init_susceptible, num_infected_init, replace=False)) # choose initially infected nodes. Cannot be an effectively vaccinated node.\n",
    "    s_nodes = [node for node in init_susceptible if node not in i_nodes] # susceptible nodes are not infected and not vaccinatd\n",
    "    r_nodes = [] # recovered AFTER getting infection \n",
    "    \n",
    "    # initialize lengths\n",
    "    num_s_nodes = [len(s_nodes)]\n",
    "    num_i_nodes = [len(i_nodes)]\n",
    "    num_r_nodes = [len(r_nodes)]\n",
    "    num_v_nodes = [len(v_nodes)]\n",
    "\n",
    "    # initialize counter of time steps, for plotting individual simulations    \n",
    "    num_time_steps = 1 #already did one time step with initialization\n",
    "    \n",
    "    while len(i_nodes) > 0: # run simulation while there are still infected nodes\n",
    "        # PART A: Vaccination decision \n",
    "        s_nodes, v_nodes = vaccinate_decision_making(G, s_nodes, v_nodes, thresholds, p_si)\n",
    "        \n",
    "        # PART B: SIR SPREAD \n",
    "        # I to R transition step for one time step\n",
    "        i_nodes, r_nodes = recover(i_nodes, r_nodes, p_ir)\n",
    "        \n",
    "        # simulate S to I spread\n",
    "        s_nodes, i_nodes = spread(G, s_nodes, i_nodes, p_si)\n",
    "\n",
    "        # Update lengths\n",
    "        num_s_nodes.append(len(s_nodes))\n",
    "        num_i_nodes.append(len(i_nodes))\n",
    "        num_r_nodes.append(len(r_nodes))\n",
    "        num_v_nodes.append(len(v_nodes))\n",
    "        \n",
    "        num_time_steps += 1\n",
    "        \n",
    "    return num_s_nodes, num_i_nodes, num_r_nodes, num_v_nodes, num_time_steps "
   ]
  },
  {
   "cell_type": "code",
   "execution_count": 101,
   "metadata": {
    "collapsed": false
   },
   "outputs": [],
   "source": [
    "p_si = 0.5\n",
    "p_ir = 0.1"
   ]
  },
  {
   "cell_type": "markdown",
   "metadata": {},
   "source": [
    "**BA graph, public health intervention**"
   ]
  },
  {
   "cell_type": "code",
   "execution_count": 72,
   "metadata": {
    "collapsed": false
   },
   "outputs": [],
   "source": [
    "proportions_vaccinated = []\n",
    "proportions_infected = []\n",
    "\n",
    "n = 100\n",
    "num_infected_init = np.int(n/5)\n",
    "num_vaccinate_init = np.int(n/5)\n",
    "\n",
    "for i in range(1000):\n",
    "    vaccinate_threshold = [0.5 for i in range(n)] # Using uniform thresholds \n",
    "    G = nx.barabasi_albert_graph(n,2,seed=1)\n",
    "    num_s_nodes, num_i_nodes, num_r_nodes, num_v_nodes, num_time_steps = simulate_main(G, p_si, p_ir, num_infected_init, num_vaccinate_init, thresholds = vaccinate_threshold)\n",
    "    proportions_vaccinated.append(num_v_nodes[-1]/n)\n",
    "    proportions_infected.append(num_r_nodes[-1]/n) \n",
    "    \n",
    "    # plt.plot(range(num_time_steps), num_s_nodes)\n",
    "    # plt.plot(range(num_time_steps), num_i_nodes)\n",
    "    # plt.plot(range(num_time_steps), num_r_nodes)\n",
    "    # plt.plot(range(num_time_steps), num_v_nodes)\n",
    "    # plt.show()"
   ]
  },
  {
   "cell_type": "code",
   "execution_count": 81,
   "metadata": {
    "collapsed": false
   },
   "outputs": [
    {
     "data": {
      "image/png": "[encoded data removed]",
      "text/plain": [
       "<matplotlib.figure.Figure at 0x11073ac18>"
      ]
     },
     "metadata": {},
     "output_type": "display_data"
    }
   ],
   "source": [
    "plt.hist(proportions_vaccinated)\n",
    "plt.show()"
   ]
  },
  {
   "cell_type": "code",
   "execution_count": 74,
   "metadata": {
    "collapsed": false
   },
   "outputs": [
    {
     "data": {
      "image/png": "[encoded data removed]",
      "text/plain": [
       "<matplotlib.figure.Figure at 0x1105922e8>"
      ]
     },
     "metadata": {},
     "output_type": "display_data"
    }
   ],
   "source": [
    "plt.hist(proportions_infected)\n",
    "plt.show()"
   ]
  },
  {
   "cell_type": "markdown",
   "metadata": {},
   "source": [
    "**Complete graph, public health intervention**"
   ]
  },
  {
   "cell_type": "code",
   "execution_count": 75,
   "metadata": {
    "collapsed": false
   },
   "outputs": [],
   "source": [
    "proportions_vaccinated = []\n",
    "proportions_infected = []\n",
    "for i in range(1000):\n",
    "    n = 100\n",
    "    G_complete = nx.complete_graph(n)\n",
    "    thresholds = [0.5 for i in range(n)]\n",
    "    num_s_nodes, num_i_nodes, num_r_nodes, num_v_nodes, num_time_steps = simulate_main(G_complete, p_si, p_ir, num_infected_init, num_vaccinate_init, thresholds)\n",
    "    proportions_vaccinated.append(num_v_nodes[-1]/n)\n",
    "    proportions_infected.append(num_r_nodes[-1]/n) "
   ]
  },
  {
   "cell_type": "code",
   "execution_count": 76,
   "metadata": {
    "collapsed": false
   },
   "outputs": [
    {
     "data": {
      "image/png": "[encoded data removed]",
      "text/plain": [
       "<matplotlib.figure.Figure at 0x110724a58>"
      ]
     },
     "metadata": {},
     "output_type": "display_data"
    }
   ],
   "source": [
    "plt.hist(proportions_vaccinated)\n",
    "plt.show()"
   ]
  },
  {
   "cell_type": "code",
   "execution_count": 77,
   "metadata": {
    "collapsed": false
   },
   "outputs": [
    {
     "data": {
      "image/png": "[encoded data removed]",
      "text/plain": [
       "<matplotlib.figure.Figure at 0x110233dd8>"
      ]
     },
     "metadata": {},
     "output_type": "display_data"
    }
   ],
   "source": [
    "plt.hist(proportions_infected)\n",
    "plt.show()"
   ]
  },
  {
   "cell_type": "markdown",
   "metadata": {},
   "source": [
    "**Cycle graph, public health intervention**"
   ]
  },
  {
   "cell_type": "code",
   "execution_count": 78,
   "metadata": {
    "collapsed": false
   },
   "outputs": [],
   "source": [
    "proportions_vaccinated = []\n",
    "proportions_infected = []\n",
    "for i in range(1000):\n",
    "    n = 100\n",
    "    G_complete = nx.cycle_graph(n)\n",
    "    thresholds = [0.5 for i in range(n)]\n",
    "    num_s_nodes, num_i_nodes, num_r_nodes, num_v_nodes, num_time_steps = simulate_main(G_complete, p_si, p_ir, num_infected_init, num_vaccinate_init, thresholds)\n",
    "    proportions_vaccinated.append(num_v_nodes[-1]/n)\n",
    "    proportions_infected.append(num_r_nodes[-1]/n) "
   ]
  },
  {
   "cell_type": "code",
   "execution_count": 79,
   "metadata": {
    "collapsed": false
   },
   "outputs": [
    {
     "data": {
      "image/png": "[encoded data removed]",
      "text/plain": [
       "<matplotlib.figure.Figure at 0x110557b38>"
      ]
     },
     "metadata": {},
     "output_type": "display_data"
    },
    {
     "data": {
      "image/png": "[encoded data removed]",
      "text/plain": [
       "<matplotlib.figure.Figure at 0x11044d320>"
      ]
     },
     "metadata": {},
     "output_type": "display_data"
    }
   ],
   "source": [
    "plt.hist(proportions_vaccinated)\n",
    "plt.show()\n",
    "plt.hist(proportions_infected)\n",
    "plt.show()"
   ]
  },
  {
   "cell_type": "markdown",
   "metadata": {},
   "source": [
    "###  Now, model the case where there is no public helath intervention, and instead, individuals randomly decide to vaccinate. "
   ]
  },
  {
   "cell_type": "code",
   "execution_count": 95,
   "metadata": {
    "collapsed": true
   },
   "outputs": [],
   "source": [
    "def vaccinate_randomly(p_vacc, v_nodes, s_nodes):\n",
    "    randoms = [random.random() for i in range(len(s_nodes))]\n",
    "    \n",
    "    vaccinate = [x < p_vacc for x in randoms]\n",
    "    s_nodes_array = np.array(s_nodes)\n",
    "    new_vaccinated_nodes = s_nodes_array[vaccinate]\n",
    "    new_vaccinated_nodes = list(new_vaccinated_nodes)\n",
    "    \n",
    "    v_nodes += new_vaccinated_nodes \n",
    "    s_nodes = [item for item in s_nodes if item not in new_vaccinated_nodes]\n",
    "    \n",
    "    return s_nodes, v_nodes "
   ]
  },
  {
   "cell_type": "code",
   "execution_count": 83,
   "metadata": {
    "collapsed": true
   },
   "outputs": [],
   "source": [
    "def simulate_sir(G, p_si, p_ir, num_infected_init, num_vaccinate_init, thresholds):\n",
    "    '''Simulates all'''\n",
    "    v_nodes = list(np.random.choice(G.nodes(), num_vaccinate_init, replace=False)) # Initialize vaccinated nodes \n",
    "    init_susceptible = list(set(G.nodes()) - set(v_nodes)) #Initially susceptible cannot be a vaccinated node\n",
    "    \n",
    "    # initialize nodes\n",
    "    i_nodes = list(np.random.choice(init_susceptible, num_infected_init, replace=False)) # choose initially infected nodes. Cannot be an effectively vaccinated node.\n",
    "    s_nodes = [node for node in init_susceptible if node not in i_nodes] # susceptible nodes are not infected and not vaccinatd\n",
    "    r_nodes = [] # recovered AFTER getting infection \n",
    "        \n",
    "    # initialize lengths\n",
    "    num_s_nodes = [len(s_nodes)]\n",
    "    num_i_nodes = [len(i_nodes)]\n",
    "    num_r_nodes = [len(r_nodes)]\n",
    "    num_v_nodes = [len(v_nodes)]\n",
    "\n",
    "    \n",
    "    # initialize counter of time steps\n",
    "    # need this to set xlim on plot later\n",
    "    num_time_steps = 1 #already did one time step with initialization\n",
    "    \n",
    "\n",
    "    while len(i_nodes) > 0: # run simulation while there are still infected nodes\n",
    "        # PART A: Vaccination decision \n",
    "        s_nodes, v_nodes = vaccinate_randomly(0.2, v_nodes, s_nodes)\n",
    "        \n",
    "        # PART B: SIR SPREAD \n",
    "        # I to R transition step for one time step\n",
    "        i_nodes, r_nodes = recover(i_nodes, r_nodes, p_ir)\n",
    "        \n",
    "        # simulate S to I spread\n",
    "        s_nodes, i_nodes = spread(G, s_nodes, i_nodes, p_si)\n",
    "\n",
    "        # Update lengths\n",
    "        num_s_nodes.append(len(s_nodes))\n",
    "        num_i_nodes.append(len(i_nodes))\n",
    "        num_r_nodes.append(len(r_nodes))\n",
    "        num_v_nodes.append(len(v_nodes))\n",
    "        \n",
    "        num_time_steps += 1\n",
    "        \n",
    "    return num_s_nodes, num_i_nodes, num_r_nodes, num_v_nodes, num_time_steps "
   ]
  },
  {
   "cell_type": "markdown",
   "metadata": {},
   "source": [
    "**BA graph, no public health intervention**"
   ]
  },
  {
   "cell_type": "code",
   "execution_count": 100,
   "metadata": {
    "collapsed": false
   },
   "outputs": [
    {
     "data": {
      "image/png": "[encoded data removed]",
      "text/plain": [
       "<matplotlib.figure.Figure at 0x11059ba20>"
      ]
     },
     "metadata": {},
     "output_type": "display_data"
    },
    {
     "data": {
      "image/png": "[encoded data removed]",
      "text/plain": [
       "<matplotlib.figure.Figure at 0x11036e748>"
      ]
     },
     "metadata": {},
     "output_type": "display_data"
    }
   ],
   "source": [
    "proportions_vaccinated = []\n",
    "proportions_infected = []\n",
    "\n",
    "n = 100\n",
    "num_infected_init = np.int(n/5)\n",
    "num_vaccinate_init = np.int(n/5)\n",
    "\n",
    "for i in range(1000):\n",
    "    vaccinate_threshold = [0.5 for i in range(n)]\n",
    "    G = nx.barabasi_albert_graph(n,2,seed=1)\n",
    "    num_s_nodes, num_i_nodes, num_r_nodes, num_v_nodes, num_time_steps = simulate_sir(G, p_si, p_ir, num_infected_init, num_vaccinate_init, thresholds = vaccinate_threshold)\n",
    "    proportions_vaccinated.append(num_v_nodes[-1]/n)\n",
    "    proportions_infected.append(num_r_nodes[-1]/n) \n",
    "plt.hist(proportions_vaccinated)\n",
    "plt.show()\n",
    "plt.hist(proportions_infected)\n",
    "plt.show()"
   ]
  },
  {
   "cell_type": "markdown",
   "metadata": {},
   "source": [
    "**Complete graph, no public health intervention**"
   ]
  },
  {
   "cell_type": "code",
   "execution_count": 98,
   "metadata": {
    "collapsed": false
   },
   "outputs": [
    {
     "data": {
      "image/png": "[encoded data removed]",
      "text/plain": [
       "<matplotlib.figure.Figure at 0x110423358>"
      ]
     },
     "metadata": {},
     "output_type": "display_data"
    },
    {
     "data": {
      "image/png": "[encoded data removed]",
      "text/plain": [
       "<matplotlib.figure.Figure at 0x110518b00>"
      ]
     },
     "metadata": {},
     "output_type": "display_data"
    }
   ],
   "source": [
    "proportions_vaccinated = []\n",
    "proportions_infected = []\n",
    "\n",
    "n = 100\n",
    "num_infected_init = np.int(n/5)\n",
    "num_vaccinate_init = np.int(n/5)\n",
    "\n",
    "for i in range(1000):\n",
    "    vaccinate_threshold = [0.5 for i in range(n)]\n",
    "    G = nx.complete_graph(n)\n",
    "    num_s_nodes, num_i_nodes, num_r_nodes, num_v_nodes, num_time_steps = simulate_sir(G, p_si, p_ir, num_infected_init, num_vaccinate_init, thresholds = vaccinate_threshold)\n",
    "    proportions_vaccinated.append(num_v_nodes[-1]/n)\n",
    "    proportions_infected.append(num_r_nodes[-1]/n) \n",
    "plt.hist(proportions_vaccinated)\n",
    "plt.show()\n",
    "plt.hist(proportions_infected)\n",
    "plt.show()"
   ]
  },
  {
   "cell_type": "markdown",
   "metadata": {},
   "source": [
    "**Cycle graph, no public health intervention**"
   ]
  },
  {
   "cell_type": "code",
   "execution_count": 99,
   "metadata": {
    "collapsed": false
   },
   "outputs": [
    {
     "data": {
      "image/png": "[encoded data removed]",
      "text/plain": [
       "<matplotlib.figure.Figure at 0x11032af98>"
      ]
     },
     "metadata": {},
     "output_type": "display_data"
    },
    {
     "data": {
      "image/png": "[encoded data removed]",
      "text/plain": [
       "<matplotlib.figure.Figure at 0x110924278>"
      ]
     },
     "metadata": {},
     "output_type": "display_data"
    }
   ],
   "source": [
    "proportions_vaccinated = []\n",
    "proportions_infected = []\n",
    "\n",
    "n = 100\n",
    "num_infected_init = np.int(n/5)\n",
    "num_vaccinate_init = np.int(n/5)\n",
    "\n",
    "for i in range(1000):\n",
    "    vaccinate_threshold = [0.5 for i in range(n)]\n",
    "    G = nx.cycle_graph(n)\n",
    "    num_s_nodes, num_i_nodes, num_r_nodes, num_v_nodes, num_time_steps = simulate_sir(G, p_si, p_ir, num_infected_init, num_vaccinate_init, thresholds = vaccinate_threshold)\n",
    "    proportions_vaccinated.append(num_v_nodes[-1]/n)\n",
    "    proportions_infected.append(num_r_nodes[-1]/n) \n",
    "plt.hist(proportions_vaccinated)\n",
    "plt.show()\n",
    "plt.hist(proportions_infected)\n",
    "plt.show()"
   ]
  },
  {
   "cell_type": "code",
   "execution_count": null,
   "metadata": {
    "collapsed": true
   },
   "outputs": [],
   "source": []
  }
 ],
 "metadata": {
  "anaconda-cloud": {},
  "kernelspec": {
   "display_name": "Python [py36]",
   "language": "python",
   "name": "Python [py36]"
  },
  "language_info": {
   "codemirror_mode": {
    "name": "ipython",
    "version": 3
   },
   "file_extension": ".py",
   "mimetype": "text/x-python",
   "name": "python",
   "nbconvert_exporter": "python",
   "pygments_lexer": "ipython3",
   "version": "3.6.2"
  }
 },
 "nbformat": 4,
 "nbformat_minor": 0
}
