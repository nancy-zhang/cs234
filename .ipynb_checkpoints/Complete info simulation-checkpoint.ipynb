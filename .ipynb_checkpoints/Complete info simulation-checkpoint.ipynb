{
 "cells": [
  {
   "cell_type": "code",
   "execution_count": 1,
   "metadata": {
    "collapsed": true
   },
   "outputs": [],
   "source": [
    "import matplotlib.pyplot as plt\n",
    "import seaborn\n",
    "import random\n",
    "import networkx as nx\n",
    "import scipy.special\n",
    "import numpy as np\n",
    "%matplotlib inline"
   ]
  },
  {
   "cell_type": "code",
   "execution_count": 2,
   "metadata": {
    "collapsed": true
   },
   "outputs": [],
   "source": [
    "def recover(i_nodes, r_nodes, p_ir):\n",
    "    \"\"\" Input: list of infected nodes, recovered nodes, and IR transition probability.\n",
    "    Recovers some infected nodes at random according to p\n",
    "    Output: list of infected nodes and recovered nodes \"\"\"\n",
    "    no_infected = len(i_nodes)\n",
    "    if no_infected == 0:\n",
    "        return i_nodes, r_nodes\n",
    "    \n",
    "    randoms = [random.random() for i in range(no_infected)]\n",
    "    recover = [x<p_ir for x in randoms]\n",
    "    I_array = np.asarray(i_nodes)\n",
    "    filter = np.array(recover)\n",
    "    new_recovered_nodes = list(I_array[filter]) # np array of infected nodes that are now recovered\n",
    "    \n",
    "    i_nodes = [item for item in i_nodes if item not in new_recovered_nodes]\n",
    "    r_nodes += new_recovered_nodes\n",
    "    \n",
    "    return i_nodes, r_nodes \n",
    "\n",
    "def spread(G, s_nodes, i_nodes, p_si):\n",
    "    \"\"\"\"Input: Networkx graph structure, list of s nodes, list of i nodes, and SI transition probability\n",
    "    Each infected node will spread to each susceptible neighbor with probability p \n",
    "    Output: list of s nodes and i nodes \n",
    "    \"\"\"\n",
    "    \n",
    "    for node_id in i_nodes:\n",
    "        # find neighbors in the S state\n",
    "        neighbors_in_s = list(set(G.neighbors(node_id)) & set(s_nodes))\n",
    "        \n",
    "        if len(neighbors_in_s) == 0: #If that node has no neighbors in S state, skip to next node\n",
    "            continue\n",
    "        \n",
    "        randoms = [random.random() for i in range(len(neighbors_in_s))]\n",
    "        infected = [x<p_si for x in randoms]\n",
    "        filter = np.array(infected)\n",
    "        neighbors_s_array = np.asarray(neighbors_in_s)\n",
    "        \n",
    "        new_infected_nodes = neighbors_s_array[filter] # np array of now-infected nodes\n",
    "        new_infected_nodes = list(new_infected_nodes) # cast as list\n",
    "        \n",
    "        s_nodes = [item for item in s_nodes if item not in new_infected_nodes]\n",
    "        \n",
    "        i_nodes += new_infected_nodes\n",
    "    \n",
    "    return s_nodes, i_nodes"
   ]
  },
  {
   "cell_type": "code",
   "execution_count": 18,
   "metadata": {
    "collapsed": true
   },
   "outputs": [],
   "source": [
    "def prob_of_disease(G, node, vacc, p_si):\n",
    "    \"\"\"G: networkx graph\n",
    "        node: node id for graph\n",
    "        p_vacc: prior for vaccination probability\n",
    "        p_si: infection probability \"\"\"\n",
    "\n",
    "    \"\"\"Returns a node's probability of disease \"\"\"\n",
    "    \n",
    "    p_infection = 1-(1-p_si)**(G.degree(node)-vacc)\n",
    "    return p_infection\n",
    "\n",
    "\n",
    "\n",
    "def vaccinate_decision_making_init(G, thresholds, p_si, p_vacc):\n",
    "    \"\"\"Given information, some susceptible nodes decide to vaccinate \"\"\"\n",
    "    \"\"\"Suppose we give information about how many first degree neighbors have vaccinated\"\"\"\n",
    "    \n",
    "    p_disease = [prob_of_disease(G, node, p_vacc, p_si) for node in G.nodes()]\n",
    "    vaccinate = [p_disease[node] > thresholds[node] for node in G.nodes()]\n",
    "    filter = np.array(vaccinate)\n",
    "    v_nodes = list(np.asarray(G.nodes())[filter])\n",
    "    return v_nodes\n",
    "\n",
    "def vaccinate_decision_making(G, thresholds, p_si, v_nodes):\n",
    "    \"\"\"Given information, some susceptible nodes decide to vaccinate \"\"\"\n",
    "    '''vacc: list of no. of vaccinated 1st degree neighbors for each node'''\n",
    "    \"\"\"Suppose we give information about how many first degree neighbors have vaccinated\"\"\"\n",
    "\n",
    "    # list of how many neighbors of each node are vaccinated\n",
    "    vacc = [len(set(v_nodes) & set(G.neighbors(node))) for node in G.nodes()]\n",
    "    vacc = [prob_of_disease(G, node, vacc[node], p_si) >  thresholds[node] for node in G.nodes()]\n",
    "    filter = np.array(vacc)\n",
    "    v_new = list(np.array(G.nodes())[filter])\n",
    "    v_nodes += v_new \n",
    "    return v_nodes"
   ]
  },
  {
   "cell_type": "code",
   "execution_count": null,
   "metadata": {
    "collapsed": false
   },
   "outputs": [],
   "source": []
  },
  {
   "cell_type": "code",
   "execution_count": 24,
   "metadata": {
    "collapsed": true
   },
   "outputs": [],
   "source": [
    "def simulate_main(G, p_si, p_ir, thresholds, p_vacc):\n",
    "    '''Runs simulation''' \n",
    "    '''Terminates when all infected nodes have recovered'''\n",
    "    \n",
    "    v_nodes = vaccinate_decision_making_init(G, thresholds, p_si, p_vacc)\n",
    "    v_nodes = vaccinate_decision_making(G, thresholds, p_si, v_nodes)\n",
    "    \n",
    "    init_susceptible = list(set(G.nodes()) - set(v_nodes)) #Initially susceptible cannot be a vaccinated node\n",
    "    \n",
    "    if len(init_susceptible) == 0:\n",
    "#         print 'none initially sucepble, all nodes decided to vaccinate'\n",
    "        return [0], [0], [0], [len(v_nodes)], 1\n",
    "    \n",
    "    num_infected_init = np.int(len(init_susceptible)/5)\n",
    "    \n",
    "    # initialize nodes\n",
    "    i_nodes = list(np.random.choice(init_susceptible, num_infected_init, replace=False)) # choose initially infected nodes. Cannot be an effectively vaccinated node.\n",
    "    s_nodes = [node for node in init_susceptible if node not in i_nodes] # susceptible nodes are not infected and not vaccinatd\n",
    "    r_nodes = [] # recovered AFTER getting infection \n",
    "    \n",
    "    # initialize lengths\n",
    "    num_s_nodes = [len(s_nodes)]\n",
    "    num_i_nodes = [len(i_nodes)]\n",
    "    num_r_nodes = [len(r_nodes)]\n",
    "    num_v_nodes = [len(v_nodes)]\n",
    "\n",
    "    # initialize counter of time steps, for plotting individual simulations    \n",
    "    num_time_steps = 1 #already did one time step with initialization\n",
    "    \n",
    "    while len(i_nodes) > 0: # run simulation while there are still infected nodes\n",
    "        # I to R transition step for one time step\n",
    "        i_nodes, r_nodes = recover(i_nodes, r_nodes, p_ir)\n",
    "        \n",
    "        # simulate S to I spread\n",
    "        s_nodes, i_nodes = spread(G, s_nodes, i_nodes, p_si)\n",
    "\n",
    "        # Update lengths\n",
    "        num_s_nodes.append(len(s_nodes))\n",
    "        num_i_nodes.append(len(i_nodes))\n",
    "        num_r_nodes.append(len(r_nodes))\n",
    "        \n",
    "        num_time_steps += 1\n",
    "        \n",
    "    return num_s_nodes, num_i_nodes, num_r_nodes, num_v_nodes, num_time_steps "
   ]
  },
  {
   "cell_type": "code",
   "execution_count": 14,
   "metadata": {
    "collapsed": true
   },
   "outputs": [],
   "source": [
    "p_si = 0.3\n",
    "p_ir = 0.1\n",
    "p_vacc = 0.5 #global prior for someone getting a vaccination "
   ]
  },
  {
   "cell_type": "code",
   "execution_count": 36,
   "metadata": {
    "collapsed": true
   },
   "outputs": [],
   "source": [
    "def simulate_plot_ba(p_si, p_ir, p_vacc, n, m, num_iter):\n",
    "    '''Simulates SIR on BA graph of n nodes'''\n",
    "    '''Vaccination thresholds are drawn from Beta 5,5, distribution'''\n",
    "    '''Plots results'''\n",
    "    p_vaccinated = []\n",
    "    p_infected = []\n",
    "    for i in range(num_iter):\n",
    "        G = nx.barabasi_albert_graph(n, m)\n",
    "        vaccinate_threshold = np.random.beta(5,5,size=n)\n",
    "        num_s_nodes, num_i_nodes, num_r_nodes, num_v_nodes, num_time_steps = simulate_main(G, p_si, p_ir, vaccinate_threshold, p_vacc)\n",
    "        p_vaccinated.append(num_v_nodes[-1]/np.float(n))\n",
    "        p_infected.append(num_r_nodes[-1]/np.float(n))\n",
    "        \n",
    "    \n",
    "    plt.hist(p_vaccinated)\n",
    "    plt.xlabel('Proportion vaccinated')\n",
    "    plt.show()\n",
    "    \n",
    "    plt.hist(p_infected)\n",
    "    plt.xlabel('Proportion infected')\n",
    "    plt.show()\n",
    "    \n",
    "    return p_vaccinated, p_infected\n",
    "\n",
    "\n",
    "def simulate_plot_cycle(p_si, p_ir, p_vacc, n, num_iter):\n",
    "    '''Simulates SIR on Cycle graph of n nodes'''\n",
    "    '''Vaccination thresholds are drawn from Beta 5,5, distribution'''\n",
    "    '''Plots results'''\n",
    "    p_vaccinated = []\n",
    "    p_infected = []\n",
    "    for i in range(num_iter):\n",
    "        G = nx.cycle_graph(n)\n",
    "        vaccinate_threshold = np.random.beta(5,5,size=n)\n",
    "        num_s_nodes, num_i_nodes, num_r_nodes, num_v_nodes, num_time_steps = simulate_main(G, p_si, p_ir, vaccinate_threshold, p_vacc)\n",
    "        p_vaccinated.append(num_v_nodes[-1]/np.float(n))\n",
    "        p_infected.append(num_r_nodes[-1]/np.float(n))\n",
    "    \n",
    "    plt.hist(p_vaccinated)\n",
    "    plt.xlabel('Proportion vaccinated')\n",
    "    plt.show()\n",
    "    \n",
    "    plt.hist(p_infected)\n",
    "    plt.xlabel('Proportion infected')\n",
    "    plt.show()\n",
    "    \n",
    "    return p_vaccinated, p_infected\n",
    "\n",
    "def simulate_plot_complete(p_si, p_ir, p_vacc, n, num_iter):\n",
    "    '''Simulates SIR on complete graph of n nodes'''\n",
    "    p_vaccinated = []\n",
    "    p_infected = []\n",
    "    \n",
    "    G = nx.complete_graph(n)\n",
    "    for i in range(num_iter):\n",
    "        vaccinate_threshold = np.random.beta(5,5,size=n)\n",
    "        num_s_nodes, num_i_nodes, num_r_nodes, num_v_nodes, num_time_steps = simulate_main(G, p_si, p_ir, vaccinate_threshold, p_vacc)\n",
    "        p_vaccinated.append(num_v_nodes[-1]/np.float(n))\n",
    "        p_infected.append(num_r_nodes[-1]/np.float(n))\n",
    "    \n",
    "    plt.hist(p_vaccinated)\n",
    "    plt.xlabel('Proportion vaccinated')\n",
    "    plt.show()\n",
    "    \n",
    "    plt.hist(p_infected)\n",
    "    plt.xlabel('Proportion infected')\n",
    "    plt.show()\n",
    "    \n",
    "    return p_vaccinated, p_infected\n",
    "\n",
    "\n",
    "def simulate_plot_path(p_si, p_ir, p_vacc, n, num_iter):\n",
    "    '''Simulates SIR on path graph of n nodes'''\n",
    "    p_vaccinated = []\n",
    "    p_infected = []\n",
    "    \n",
    "    for i in range(num_iter):\n",
    "        G = nx.path_graph(n)\n",
    "        vaccinate_threshold = np.random.beta(5,5,size=n)\n",
    "        num_s_nodes, num_i_nodes, num_r_nodes, num_v_nodes, num_time_steps = simulate_main(G, p_si, p_ir, vaccinate_threshold, p_vacc)\n",
    "        p_vaccinated.append(num_v_nodes[-1]/np.float(n))\n",
    "        p_infected.append(num_r_nodes[-1]/np.float(n))\n",
    "    \n",
    "    plt.hist(p_vaccinated)\n",
    "    plt.xlabel('Proportion vaccinated')\n",
    "    plt.show()\n",
    "    \n",
    "    plt.hist(p_infected)\n",
    "    plt.xlabel('Proportion infected')\n",
    "    plt.show()\n",
    "    \n",
    "    return p_vaccinated, p_infected\n",
    "\n",
    "\n",
    "def simulate_plot_er(p_si, p_ir, p_vacc, n, num_iter):\n",
    "    '''Simulates SIR, complete info on binomial random graph'''\n",
    "    p_vaccinated = []\n",
    "    p_infected = []\n",
    "    \n",
    "    for i in range(num_iter):\n",
    "        G = nx.erdos_renyi_graph(n, 0.2)\n",
    "        vaccinate_threshold = np.random.beta(5,5,size=n)\n",
    "        num_s_nodes, num_i_nodes, num_r_nodes, num_v_nodes, num_time_steps = simulate_main(G, p_si, p_ir, vaccinate_threshold, p_vacc)\n",
    "        p_vaccinated.append(num_v_nodes[-1]/np.float(n))\n",
    "        p_infected.append(num_r_nodes[-1]/np.float(n))\n",
    "    \n",
    "    plt.hist(p_vaccinated)\n",
    "    plt.xlabel('Proportion vaccinated')\n",
    "    plt.show()\n",
    "    \n",
    "    plt.hist(p_infected)\n",
    "    plt.xlabel('Proportion infected')\n",
    "    plt.show()\n",
    "    \n",
    "    return p_vaccinated, p_infected"
   ]
  },
  {
   "cell_type": "code",
   "execution_count": 26,
   "metadata": {
    "collapsed": false
   },
   "outputs": [
    {
     "data": {
      "image/png": "[encoded data removed]",
      "text/plain": [
       "<matplotlib.figure.Figure at 0x116a79590>"
      ]
     },
     "metadata": {},
     "output_type": "display_data"
    },
    {
     "data": {
      "image/png": "[encoded data removed]",
      "text/plain": [
       "<matplotlib.figure.Figure at 0x116931190>"
      ]
     },
     "metadata": {},
     "output_type": "display_data"
    }
   ],
   "source": [
    "n=100\n",
    "vacc_ba, inf_ba = simulate_plot_ba(p_si, p_ir, p_vacc, n, 4, 10000)"
   ]
  },
  {
   "cell_type": "code",
   "execution_count": 29,
   "metadata": {
    "collapsed": false
   },
   "outputs": [
    {
     "data": {
      "image/png": "[encoded data removed]",
      "text/plain": [
       "<matplotlib.figure.Figure at 0x1167edd10>"
      ]
     },
     "metadata": {},
     "output_type": "display_data"
    },
    {
     "data": {
      "image/png": "[encoded data removed]",
      "text/plain": [
       "<matplotlib.figure.Figure at 0x1167bdd10>"
      ]
     },
     "metadata": {},
     "output_type": "display_data"
    }
   ],
   "source": [
    "vacc_path, inf_path = simulate_plot_path(p_si, p_ir, p_vacc, n, 10000)"
   ]
  },
  {
   "cell_type": "code",
   "execution_count": 30,
   "metadata": {
    "collapsed": false
   },
   "outputs": [
    {
     "data": {
      "image/png": "[encoded data removed]",
      "text/plain": [
       "<matplotlib.figure.Figure at 0x116a70910>"
      ]
     },
     "metadata": {},
     "output_type": "display_data"
    },
    {
     "data": {
      "image/png": "[encoded data removed]",
      "text/plain": [
       "<matplotlib.figure.Figure at 0x113b7ac50>"
      ]
     },
     "metadata": {},
     "output_type": "display_data"
    }
   ],
   "source": [
    "vacc_complete, inf_complete = simulate_plot_complete(p_si, p_ir, p_vacc, n, 100)"
   ]
  },
  {
   "cell_type": "code",
   "execution_count": 38,
   "metadata": {
    "collapsed": false
   },
   "outputs": [
    {
     "data": {
      "image/png": "[encoded data removed]",
      "text/plain": [
       "<matplotlib.figure.Figure at 0x1164aa1d0>"
      ]
     },
     "metadata": {},
     "output_type": "display_data"
    },
    {
     "data": {
      "image/png": "[encoded data removed]",
      "text/plain": [
       "<matplotlib.figure.Figure at 0x1167ecc10>"
      ]
     },
     "metadata": {},
     "output_type": "display_data"
    }
   ],
   "source": [
    "vacc_cycle, inf_cycle = simulate_plot_cycle(p_si, p_ir, p_vacc, n, 10000)"
   ]
  },
  {
   "cell_type": "code",
   "execution_count": 37,
   "metadata": {
    "collapsed": false
   },
   "outputs": [
    {
     "data": {
      "image/png": "[encoded data removed]",
      "text/plain": [
       "<matplotlib.figure.Figure at 0x116336790>"
      ]
     },
     "metadata": {},
     "output_type": "display_data"
    },
    {
     "data": {
      "image/png": "[encoded data removed]",
      "text/plain": [
       "<matplotlib.figure.Figure at 0x1161e9310>"
      ]
     },
     "metadata": {},
     "output_type": "display_data"
    }
   ],
   "source": [
    "vacc_er, inf_er = simulate_plot_er(p_si, p_ir, p_vacc, n, 100)"
   ]
  },
  {
   "cell_type": "code",
   "execution_count": null,
   "metadata": {
    "collapsed": true
   },
   "outputs": [],
   "source": []
  }
 ],
 "metadata": {
  "kernelspec": {
   "display_name": "Python [Root]",
   "language": "python",
   "name": "Python [Root]"
  },
  "language_info": {
   "codemirror_mode": {
    "name": "ipython",
    "version": 2
   },
   "file_extension": ".py",
   "mimetype": "text/x-python",
   "name": "python",
   "nbconvert_exporter": "python",
   "pygments_lexer": "ipython2",
   "version": "2.7.12"
  }
 },
 "nbformat": 4,
 "nbformat_minor": 0
}
